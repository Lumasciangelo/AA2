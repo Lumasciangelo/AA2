{
 "cells": [
  {
   "cell_type": "code",
   "execution_count": 1,
   "metadata": {},
   "outputs": [
    {
     "name": "stdout",
     "output_type": "stream",
     "text": [
      "   1265  13416824680170590114.wav  \\\n",
      "0   301  14392403388902777046.wav   \n",
      "1   101   6854560521352307280.wav   \n",
      "2  1198  16674325969320761881.wav   \n",
      "3  1372  13262819482872106384.wav   \n",
      "4  1342  17630356324166062808.wav   \n",
      "\n",
      "  En países desarrollados, es poco frecuente escuchar niveles parecidos de reclamos sobre la calidad del agua o el derrumbe de puentes.  \\\n",
      "0  Después del proceso, HJR-3 será examinado una ...                                                                                      \n",
      "1  Al abrirse las válvulas, se produjo la liberac...                                                                                      \n",
      "2  Michael Schumacher abandonó la carrera no much...                                                                                      \n",
      "3  Durante el siglo XII su estatus decayó, sobre ...                                                                                      \n",
      "4  Durante el día, su temperatura es más baja que...                                                                                      \n",
      "\n",
      "  en países desarrollados es poco frecuente escuchar niveles parecidos de reclamos sobre la calidad del agua o el derrumbe de puentes  \\\n",
      "0  después del proceso hjr-3 será examinado una v...                                                                                    \n",
      "1  al abrirse las válvulas se produjo la liberaci...                                                                                    \n",
      "2  michael schumacher abandonó la carrera no much...                                                                                    \n",
      "3  durante el siglo xii su estatus decayó sobre t...                                                                                    \n",
      "4  durante el día su temperatura es más baja que ...                                                                                    \n",
      "\n",
      "  e n | p a í s e s | d e s a r r o l l a d o s | e s | p o c o | f r e c u e n t e | e s c u c h a r | n i v e l e s | p a r e c i d o s | d e | r e c l a m o s | s o b r e | l a | c a l i d a d | d e l | a g u a | o | e l | d e r r u m b e | d e | p u e n t e s |  \\\n",
      "0  d e s p u é s | d e l | p r o c e s o | h j r ...                                                                                                                                                                                                                        \n",
      "1  a l | a b r i r s e | l a s | v á l v u l a s ...                                                                                                                                                                                                                        \n",
      "2  m i c h a e l | s c h u m a c h e r | a b a n ...                                                                                                                                                                                                                        \n",
      "3  d u r a n t e | e l | s i g l o | x i i | s u ...                                                                                                                                                                                                                        \n",
      "4  d u r a n t e | e l | d í a | s u | t e m p e ...                                                                                                                                                                                                                        \n",
      "\n",
      "   145920    MALE  \n",
      "0  185280    MALE  \n",
      "1  207360  FEMALE  \n",
      "2  157440  FEMALE  \n",
      "3  280320  FEMALE  \n",
      "4  124800    MALE  \n",
      "Index(['1265', '13416824680170590114.wav',\n",
      "       'En países desarrollados, es poco frecuente escuchar niveles parecidos de reclamos sobre la calidad del agua o el derrumbe de puentes.',\n",
      "       'en países desarrollados es poco frecuente escuchar niveles parecidos de reclamos sobre la calidad del agua o el derrumbe de puentes',\n",
      "       'e n | p a í s e s | d e s a r r o l l a d o s | e s | p o c o | f r e c u e n t e | e s c u c h a r | n i v e l e s | p a r e c i d o s | d e | r e c l a m o s | s o b r e | l a | c a l i d a d | d e l | a g u a | o | e l | d e r r u m b e | d e | p u e n t e s |',\n",
      "       '145920', 'MALE'],\n",
      "      dtype='object')\n"
     ]
    }
   ],
   "source": [
    "import pandas as pd\n",
    "\n",
    "# Cambia la ruta al archivo .tsv que quieras revisar\n",
    "ruta_tsv = r\"C:\\Users\\Usuario\\tensorflow_datasets\\downloads\\extracted\\TAR_GZ.xtreme_translations_FLEURS102_es_419zABzC0m-uxtwcFrs0GZfN0ebtUEOVUQlH9TtrcgEwLo.tar.gz\\es_419\\train.tsv\"\n",
    "\n",
    "# Cargar el archivo .tsv\n",
    "df = pd.read_csv(ruta_tsv, sep='\\t')\n",
    "\n",
    "# Mostrar las primeras filas del archivo para revisar su estructura\n",
    "print(df.head())\n",
    "\n",
    "# Mostrar las columnas del archivo\n",
    "print(df.columns)\n"
   ]
  },
  {
   "cell_type": "code",
   "execution_count": 1,
   "metadata": {},
   "outputs": [],
   "source": [
    "import os\n",
    "import pathlib\n",
    "\n",
    "import matplotlib.pyplot as plt\n",
    "import numpy as np\n",
    "import seaborn as sns\n",
    "import tensorflow as tf\n",
    "\n",
    "from tensorflow.keras import layers\n",
    "from tensorflow.keras import models\n",
    "import tensorflow_datasets as tfds\n",
    "from IPython import display\n",
    "\n",
    "# Set the seed value for experiment reproducibility.\n",
    "seed = 42\n",
    "tf.random.set_seed(seed)\n",
    "np.random.seed(seed)"
   ]
  },
  {
   "cell_type": "code",
   "execution_count": 2,
   "metadata": {},
   "outputs": [
    {
     "name": "stderr",
     "output_type": "stream",
     "text": [
      "WARNING:absl:You use TensorFlow DType <dtype: 'int32'> in tfds.features This will soon be deprecated in favor of NumPy DTypes. In the meantime it was converted to int32.\n",
      "WARNING:absl:You use TensorFlow DType <dtype: 'string'> in tfds.features This will soon be deprecated in favor of NumPy DTypes. In the meantime it was converted to object.\n"
     ]
    },
    {
     "name": "stdout",
     "output_type": "stream",
     "text": [
      "Número de audios en el dataset español: 2796\n",
      "Número de audios en el dataset inglés: 2602\n",
      "Número de audios en el dataset francés: 3193\n",
      "Número de audios en el dataset japonés: 2292\n"
     ]
    }
   ],
   "source": [
    "# Cargo los subdatasets\n",
    "es_dataset, es_info = tfds.load('xtreme_s/fleurs.es_419', split = 'train', with_info=True, as_supervised=True)\n",
    "en_dataset, en_info = tfds.load('xtreme_s/fleurs.en_us', split = 'train', with_info=True, as_supervised=True)\n",
    "fr_dataset, fr_info = tfds.load('xtreme_s/fleurs.fr_fr', split = 'train', with_info=True, as_supervised=True)\n",
    "ja_dataset, ja_info = tfds.load('xtreme_s/fleurs.ja_jp', split = 'train', with_info=True, as_supervised=True)\n",
    "\n",
    "# De los subdatasets me quedo solo con train ya que tiene muchos ejemplos (es innecesario traer los otros ejemplos tambien) y armo los ejemplos (audio, idioma)\n",
    "def add_language_label(dataset, label):\n",
    "    dataset = dataset.map(lambda audio, _: (audio, label))\n",
    "    return dataset\n",
    "\n",
    "es_dataset = add_language_label(es_dataset, 0)\n",
    "en_dataset = add_language_label(en_dataset, 1)\n",
    "fr_dataset = add_language_label(fr_dataset, 2)\n",
    "ja_dataset = add_language_label(ja_dataset, 3)\n",
    "\n",
    "# Ver cual de los subdataset tiene menor data y de cada subdataset tomar esa cantidad de ejemplos (para balancear)\n",
    "num_audios_es = len(es_dataset)\n",
    "num_audios_en = len(en_dataset)\n",
    "num_audios_fr = len(fr_dataset)\n",
    "num_audios_ja = len(ja_dataset)\n",
    "\n",
    "print(f\"Número de audios en el dataset español: {num_audios_es}\")\n",
    "print(f\"Número de audios en el dataset inglés: {num_audios_en}\")\n",
    "print(f\"Número de audios en el dataset francés: {num_audios_fr}\")\n",
    "print(f\"Número de audios en el dataset japonés: {num_audios_ja}\")\n",
    "\n",
    "# Tomamos la misma cantidad de audios para todos los datasets\n",
    "cantidad = min(num_audios_es, num_audios_en, num_audios_fr, num_audios_ja)\n",
    "\n",
    "es_dataset = es_dataset.take(cantidad)\n",
    "en_dataset = en_dataset.take(cantidad)\n",
    "fr_dataset = fr_dataset.take(cantidad)\n",
    "ja_dataset = ja_dataset.take(cantidad)\n",
    "\n",
    "# Combinamos los subdatasets\n",
    "combined_dataset = es_dataset.concatenate(en_dataset).concatenate(fr_dataset).concatenate(ja_dataset)\n",
    "\n",
    "# Hacemos shuffle del combined_dataset\n",
    "combined_dataset = combined_dataset.shuffle(buffer_size=10000)"
   ]
  },
  {
   "cell_type": "code",
   "execution_count": 4,
   "metadata": {},
   "outputs": [
    {
     "ename": "",
     "evalue": "",
     "output_type": "error",
     "traceback": [
      "\u001b[1;31mThe Kernel crashed while executing code in the current cell or a previous cell. \n",
      "\u001b[1;31mPlease review the code in the cell(s) to identify a possible cause of the failure. \n",
      "\u001b[1;31mClick <a href='https://aka.ms/vscodeJupyterKernelCrash'>here</a> for more info. \n",
      "\u001b[1;31mView Jupyter <a href='command:jupyter.viewOutput'>log</a> for further details."
     ]
    }
   ],
   "source": [
    "# Ruta donde se guardará el archivo\n",
    "output_file = r\"C:\\Users\\Usuario\\OneDrive\\Documentos\\AA2\\combined_dataset\\combined_dataset.tfrecord\"\n",
    "\n",
    "# Función para serializar los datos (audio e idioma)\n",
    "def serialize_example(audio, label):\n",
    "    # Crear un ejemplo de TensorFlow\n",
    "    feature = {\n",
    "        \"audio\": tf.train.Feature(bytes_list=tf.train.BytesList(value=[tf.io.serialize_tensor(audio).numpy()])),\n",
    "        \"label\": tf.train.Feature(int64_list=tf.train.Int64List(value=[label])),\n",
    "    }\n",
    "    example_proto = tf.train.Example(features=tf.train.Features(feature=feature))\n",
    "    return example_proto.SerializeToString()\n",
    "\n",
    "# Guardar el dataset combinado en un archivo TFRecord\n",
    "with tf.io.TFRecordWriter(output_file) as writer:\n",
    "    for audio, label in combined_dataset:\n",
    "        example = serialize_example(audio, label)\n",
    "        writer.write(example)\n",
    "\n",
    "print(f\"Dataset combinado guardado en {output_file}\")\n"
   ]
  }
 ],
 "metadata": {
  "kernelspec": {
   "display_name": "entorno_virtual",
   "language": "python",
   "name": "python3"
  },
  "language_info": {
   "codemirror_mode": {
    "name": "ipython",
    "version": 3
   },
   "file_extension": ".py",
   "mimetype": "text/x-python",
   "name": "python",
   "nbconvert_exporter": "python",
   "pygments_lexer": "ipython3",
   "version": "3.12.2"
  }
 },
 "nbformat": 4,
 "nbformat_minor": 2
}
